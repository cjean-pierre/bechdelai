{
 "cells": [
  {
   "cell_type": "markdown",
   "metadata": {},
   "source": [
    "# BechdelAI tutorial #1 - Fetching data from bechdeltest.com"
   ]
  },
  {
   "cell_type": "markdown",
   "metadata": {},
   "source": [
    "> **Objective of the tutorial**: learning how to fetch data from the website bechdeltest.com. This website references 10k+ movies and their score on the Bechdel test.  "
   ]
  },
  {
   "cell_type": "code",
   "execution_count": 1,
   "metadata": {},
   "outputs": [],
   "source": [
    "# Classical imports \n",
    "import pandas as pd"
   ]
  },
  {
   "cell_type": "code",
   "execution_count": 2,
   "metadata": {},
   "outputs": [],
   "source": [
    "# For developers who want to use the latest development version or the library locally\n",
    "# Use poetry to install dependencies\n",
    "import sys\n",
    "sys.path.append(\"../\") # Or change to the folder to the direction of \n",
    "\n",
    "import bechdelai"
   ]
  },
  {
   "cell_type": "markdown",
   "metadata": {},
   "source": [
    "# About the Bechdel test"
   ]
  },
  {
   "cell_type": "markdown",
   "metadata": {},
   "source": [
    "![](https://upload.wikimedia.org/wikipedia/en/b/bf/Dykes_to_Watch_Out_For_%28Bechdel_test_origin%29.jpg)"
   ]
  },
  {
   "cell_type": "markdown",
   "metadata": {},
   "source": [
    "The Bechdel test is a simple test used to evaluate the representation of women in movies, TV shows, and other media. The test was popularized by the cartoonist Alison Bechdel in her comic strip \"Dykes to Watch Out For\" in 1985.\n",
    "\n",
    "The test consists of three criteria:\n",
    "\n",
    "1. The movie must have at least two named women in it.\n",
    "2. The women must talk to each other.\n",
    "3. They must talk about something other than a man.\n",
    "\n",
    "The Bechdel test is not intended to be a definitive measure of a work's feminist content or quality. Instead, it is meant to be a starting point for a conversation about how women are portrayed in media. Some people argue that passing the Bechdel test is a low bar and that it doesn't necessarily mean that a movie is feminist or good, while others argue that failing the test is a clear indication of gender inequality in media.\n",
    "\n",
    "Many movies, even popular ones, fail the Bechdel test, which has led to discussions about the representation of women in Hollywood and the media industry in general."
   ]
  },
  {
   "cell_type": "markdown",
   "metadata": {},
   "source": [
    "# Fetching data from bechdeltest.com"
   ]
  },
  {
   "cell_type": "markdown",
   "metadata": {},
   "source": [
    "Some Bechdel tests are referenced in the website https://bechdeltest.com/ (around 10k movies are rated). \n",
    "\n",
    "We can fetch the data from the bechdeltest.com API to do various statistics.In this tutorial we will learn how to make the visualization below of the number of movies passing the test over the years. "
   ]
  },
  {
   "cell_type": "markdown",
   "metadata": {},
   "source": [
    "![](https://cdn.vox-cdn.com/thumbor/ThiG4oPhDKL1UJukOC_bFeB5JGQ=/1400x0/filters:no_upscale()/cdn.vox-cdn.com/uploads/chorus_asset/file/3332436/hickey-bechdel-11.0.png)"
   ]
  },
  {
   "cell_type": "code",
   "execution_count": null,
   "metadata": {},
   "outputs": [],
   "source": [
    "# Importing the data helper functions\n",
    "from bechdelai.data.bechdeltestcom import fetch_all_data\n",
    "\n",
    "# Simply call the API and request all the data referenced in the website\n",
    "data = fetch_all_data()"
   ]
  },
  {
   "cell_type": "markdown",
   "metadata": {},
   "source": [
    "# Exploring the dataset"
   ]
  },
  {
   "cell_type": "code",
   "execution_count": null,
   "metadata": {},
   "outputs": [],
   "source": [
    "data.head()"
   ]
  },
  {
   "cell_type": "markdown",
   "metadata": {},
   "source": [
    "Let's visualize the dataset to recreate the graph above"
   ]
  },
  {
   "cell_type": "code",
   "execution_count": null,
   "metadata": {},
   "outputs": [],
   "source": [
    "count_per_year = data.groupby([\"year\",\"rating\"],as_index = False)[\"id\"].count()\n",
    "count_per_year.head()"
   ]
  },
  {
   "cell_type": "markdown",
   "metadata": {},
   "source": [
    "We see that more movies are referenced in the past 20 years, and it looked like more movies have passed the test, but we would need to normalize per to see the evolution. "
   ]
  },
  {
   "cell_type": "code",
   "execution_count": null,
   "metadata": {},
   "outputs": [],
   "source": [
    "import plotly.express as px\n",
    "\n",
    "px.area(count_per_year,\n",
    "        x = \"year\",\n",
    "        y = \"id\",\n",
    "        color = \"rating\",\n",
    "        height = 300,\n",
    ")"
   ]
  },
  {
   "cell_type": "code",
   "execution_count": null,
   "metadata": {},
   "outputs": [],
   "source": [
    "px.area(count_per_year,\n",
    "        x = \"year\",\n",
    "        y = \"id\",\n",
    "        color = \"rating\",\n",
    "        height = 400,\n",
    "        groupnorm = \"percent\",\n",
    ")"
   ]
  },
  {
   "cell_type": "markdown",
   "metadata": {},
   "source": [
    "However, we don't have other information to contextualize the results (budget, genre, cast, ...). But we have the IMDB id of the movie to match it with a movie metadata database. That's what we are going to do in the next tutorial !"
   ]
  }
 ],
 "metadata": {
  "kernelspec": {
   "display_name": "Python 3",
   "language": "python",
   "name": "python3"
  },
  "language_info": {
   "codemirror_mode": {
    "name": "ipython",
    "version": 3
   },
   "file_extension": ".py",
   "mimetype": "text/x-python",
   "name": "python",
   "nbconvert_exporter": "python",
   "pygments_lexer": "ipython3",
   "version": "3.8.8"
  }
 },
 "nbformat": 4,
 "nbformat_minor": 2
}
