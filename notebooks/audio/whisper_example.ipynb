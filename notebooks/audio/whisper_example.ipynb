{
 "cells": [
  {
   "cell_type": "code",
   "execution_count": 1,
   "metadata": {},
   "outputs": [],
   "source": [
    "%load_ext autoreload\n",
    "%autoreload 2"
   ]
  },
  {
   "cell_type": "code",
   "execution_count": null,
   "metadata": {},
   "outputs": [],
   "source": [
    "from bechdelai.data.youtube import download_youtube_video"
   ]
  },
  {
   "cell_type": "code",
   "execution_count": null,
   "metadata": {},
   "outputs": [],
   "source": [
    "youtube_trailer_url = \"https://www.youtube.com/watch?v=EzWIsGqeoVQ\"\n",
    "output_filename = \"raid.mp4\"\n",
    "youtube_language = \"fr-FR\""
   ]
  },
  {
   "cell_type": "code",
   "execution_count": 4,
   "metadata": {},
   "outputs": [
    {
     "name": "stdout",
     "output_type": "stream",
     "text": [
      "Task Completed!\n"
     ]
    }
   ],
   "source": [
    "download_youtube_video(youtube_trailer_url, output_filename, youtube_language)"
   ]
  },
  {
   "cell_type": "code",
   "execution_count": 2,
   "metadata": {},
   "outputs": [
    {
     "name": "stderr",
     "output_type": "stream",
     "text": [
      "/home/thomas/miniconda3/envs/bechdelai/lib/python3.9/site-packages/transformers/generation/utils.py:1273: UserWarning: Neither `max_length` nor `max_new_tokens` has been set, `max_length` will default to 448 (`generation_config.max_length`). Controlling `max_length` via the config is deprecated and `max_length` will be removed from the config in v5 of Transformers -- we recommend using `max_new_tokens` to control the maximum length of the generation.\n",
      "  warnings.warn(\n"
     ]
    },
    {
     "data": {
      "text/plain": [
       "{'text': \" Leur Raid, l'élite de la police, des super-agences sur-entraînées. Leur devise, servir sans faillir. Suivant. Bonjour. Ah, c'est pour le secrétairelien, l'infirmiereau ou la cantine ? Je suis là pour le groupe d'intervention du Raid. C'est un danger pour le groupe, une gonzesse. Une femme froissale. Ça crie, ça chiale, ça se pète les ondes, ça se poince les cheveux dans le casque. Bon, on a une femme, c'est comme ça. Oh non ! Puis ça, tout le temps, envie de pisser. On n'a pas les combinaisons adaptées pour les pisseuses. Effectivement, vous n'êtes pas du tout macho. Je me suis trompé. Mais ? Vous êtes 16. Y a 4 lits par chambre. Faites-moi tout de suite 4 groupes de 4, s'il vous plaît. Alors ça, c'est un groupe de 16. I've been looking for her file. She's got very high quality. Do you know that? That's annoying. Hide it. And the fact that she wears the same name as the Minister of the Interior? But it has nothing to do with it. It's her daughter, but it has no relationship. I warn you, on the first occasion, I'll fire her. We have to go get her. No, it's good, look, she's still making bubbles. En casion, je la fiers. Il faut aller la chercher là. Non, c'est beau, regarde, elle fait encore des bulles. Pardon ! Elle a, elle est éliminée, elle a... Ah bah non. L'ennemi est neutralisé là. She's finished. Oh, no. The enemy is neutralized.\",\n",
       " 'chunks': [{'text': \" Leur Raid, l'élite de la police, des super-agences sur-entraînées.\",\n",
       "   'timestamp': (0.0, 5.0)},\n",
       "  {'text': ' Leur devise, servir sans faillir.', 'timestamp': (5.0, 8.0)},\n",
       "  {'text': ' Suivant.', 'timestamp': (8.0, 9.0)},\n",
       "  {'text': ' Bonjour.', 'timestamp': (9.0, 10.0)},\n",
       "  {'text': \" Ah, c'est pour le secrétairelien, l'infirmiereau ou la cantine ?\",\n",
       "   'timestamp': (10.0, 12.0)},\n",
       "  {'text': \" Je suis là pour le groupe d'intervention du Raid.\",\n",
       "   'timestamp': (12.0, 14.0)},\n",
       "  {'text': \" C'est un danger pour le groupe, une gonzesse.\",\n",
       "   'timestamp': (14.0, 16.0)},\n",
       "  {'text': ' Une femme froissale.', 'timestamp': (16.0, 17.0)},\n",
       "  {'text': ' Ça crie, ça chiale, ça se pète les ondes, ça se poince les cheveux dans le casque.',\n",
       "   'timestamp': (17.0, 22.0)},\n",
       "  {'text': \" Bon, on a une femme, c'est comme ça.\", 'timestamp': (22.0, 24.0)},\n",
       "  {'text': ' Oh non ! Puis ça, tout le temps, envie de pisser.',\n",
       "   'timestamp': (24.0, 26.0)},\n",
       "  {'text': \" On n'a pas les combinaisons adaptées pour les pisseuses.\",\n",
       "   'timestamp': (26.0, 28.0)},\n",
       "  {'text': \" Effectivement, vous n'êtes pas du tout macho.\",\n",
       "   'timestamp': (28.0, 30.0)},\n",
       "  {'text': ' Je me suis trompé.', 'timestamp': (30.0, 31.0)},\n",
       "  {'text': ' Mais ?', 'timestamp': (31.0, 32.0)},\n",
       "  {'text': ' Vous êtes 16.', 'timestamp': (32.0, 33.0)},\n",
       "  {'text': ' Y a 4 lits par chambre.', 'timestamp': (33.0, 35.0)},\n",
       "  {'text': \" Faites-moi tout de suite 4 groupes de 4, s'il vous plaît.\",\n",
       "   'timestamp': (35.0, 37.0)},\n",
       "  {'text': \" Alors ça, c'est un groupe de 16.\", 'timestamp': (37.0, 42.0)},\n",
       "  {'text': \" I've been looking for her file. She's got very high quality.\",\n",
       "   'timestamp': (42.0, 45.0)},\n",
       "  {'text': ' Do you know that?', 'timestamp': (45.0, 46.0)},\n",
       "  {'text': \" That's annoying.\", 'timestamp': (46.0, 47.0)},\n",
       "  {'text': ' Hide it.', 'timestamp': (47.0, 48.0)},\n",
       "  {'text': ' And the fact that she wears the same name as the Minister of the Interior?',\n",
       "   'timestamp': (48.0, 50.0)},\n",
       "  {'text': ' But it has nothing to do with it.', 'timestamp': (50.0, 51.0)},\n",
       "  {'text': \" It's her daughter, but it has no relationship.\",\n",
       "   'timestamp': (51.0, 53.0)},\n",
       "  {'text': \" I warn you, on the first occasion, I'll fire her.\",\n",
       "   'timestamp': (53.0, 55.0)},\n",
       "  {'text': ' We have to go get her.', 'timestamp': (55.0, 56.0)},\n",
       "  {'text': \" No, it's good, look, she's still making bubbles.\",\n",
       "   'timestamp': (56.0, 59.0)},\n",
       "  {'text': ' En casion, je la fiers.', 'timestamp': (59.0, 60.0)},\n",
       "  {'text': ' Il faut aller la chercher là.', 'timestamp': (60.0, 61.0)},\n",
       "  {'text': \" Non, c'est beau, regarde, elle fait encore des bulles.\",\n",
       "   'timestamp': (61.0, 63.0)},\n",
       "  {'text': ' Pardon !', 'timestamp': (63.0, 63.5)},\n",
       "  {'text': ' Elle a, elle est éliminée, elle a...', 'timestamp': (63.5, 65.0)},\n",
       "  {'text': ' Ah bah non.', 'timestamp': (65.0, 65.5)},\n",
       "  {'text': \" L'ennemi est neutralisé là.\", 'timestamp': (65.5, 66.5)},\n",
       "  {'text': \" She's finished.\", 'timestamp': (66.5, 68.3)},\n",
       "  {'text': ' Oh, no. The enemy is neutralized.', 'timestamp': (68.3, 70.7)}]}"
      ]
     },
     "execution_count": 2,
     "metadata": {},
     "output_type": "execute_result"
    }
   ],
   "source": [
    "from bechdelai.audio.speech_recognition import SpeechRecognition\n",
    "\n",
    "sr = SpeechRecognition()\n",
    "sr.transcribe(output_filename, \"fr\")\n"
   ]
  }
 ],
 "metadata": {
  "kernelspec": {
   "display_name": "bechdelai",
   "language": "python",
   "name": "python3"
  },
  "language_info": {
   "codemirror_mode": {
    "name": "ipython",
    "version": 3
   },
   "file_extension": ".py",
   "mimetype": "text/x-python",
   "name": "python",
   "nbconvert_exporter": "python",
   "pygments_lexer": "ipython3",
   "version": "3.9.16"
  },
  "orig_nbformat": 4,
  "vscode": {
   "interpreter": {
    "hash": "31ffc711ab2ee07bd298f523dc1dd63ebc15cb1e136e0e7de381fff9c93dfdff"
   }
  }
 },
 "nbformat": 4,
 "nbformat_minor": 2
}
