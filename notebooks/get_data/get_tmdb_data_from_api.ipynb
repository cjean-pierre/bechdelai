{
 "cells": [
  {
   "cell_type": "markdown",
   "id": "9043f1a0-5ae3-4c2d-99ae-088867f90dc5",
   "metadata": {},
   "source": [
    "# Get data from TMBD API"
   ]
  },
  {
   "cell_type": "code",
   "execution_count": 1,
   "id": "d7f20480-4e22-409b-940c-87fcb03a19bc",
   "metadata": {},
   "outputs": [],
   "source": [
    "%load_ext autoreload\n",
    "%autoreload 2"
   ]
  },
  {
   "cell_type": "markdown",
   "id": "51ecac9a-f56e-43e2-a85b-aa18b19f4633",
   "metadata": {},
   "source": [
    "## Import packages"
   ]
  },
  {
   "cell_type": "code",
   "execution_count": 2,
   "id": "e19de453-5b72-4052-8294-449565907cdd",
   "metadata": {},
   "outputs": [],
   "source": [
    "import pandas as pd\n",
    "\n",
    "from bechdelai.data.tmdb import search_movie_from_query\n",
    "from bechdelai.data.tmdb import get_movie_details_from_id\n",
    "from bechdelai.data.tmdb import get_movie_cast_from_id\n",
    "from bechdelai.data.tmdb import format_results_for_suggestion\n",
    "\n",
    "from bechdelai.data.display import show_movie_suggestions_get_id"
   ]
  },
  {
   "cell_type": "markdown",
   "id": "9f438a48-173a-4638-8e90-1a40c13e9328",
   "metadata": {},
   "source": [
    "## Test API"
   ]
  },
  {
   "cell_type": "markdown",
   "id": "5bf0f594-c20d-4be6-80d8-7d846af82dba",
   "metadata": {},
   "source": [
    "### Search movie from query"
   ]
  },
  {
   "cell_type": "code",
   "execution_count": 3,
   "id": "29d7270c-f441-4757-97d3-1312f1aac699",
   "metadata": {},
   "outputs": [],
   "source": [
    "query = \"Batman\"\n",
    "data = search_movie_from_query(query)\n",
    "suggestions = format_results_for_suggestion(data)"
   ]
  },
  {
   "cell_type": "code",
   "execution_count": 4,
   "id": "675e6e1f-3c0c-47ee-9f9d-b0610b36cf64",
   "metadata": {},
   "outputs": [
    {
     "data": {
      "text/html": [
       "0 \n",
       "<tr>\n",
       "    <td>\n",
       "        <a href=\"https://www.themoviedb.org/movie/414906\"><img src=\"https://image.tmdb.org/t/p/w94_and_h141_bestv2//74xTEgt7R36Fpooo50r9T25onhq.jpg\"/></a>\n",
       "    </td>\n",
       "    <td>\n",
       "        <a href=\"https://www.themoviedb.org/movie/414906\">\n",
       "            The Batman\n",
       "        </a> (2022)\n",
       "    </td>\n",
       "</tr>\n"
      ],
      "text/plain": [
       "<IPython.core.display.HTML object>"
      ]
     },
     "metadata": {},
     "output_type": "display_data"
    },
    {
     "data": {
      "text/html": [
       "1 \n",
       "<tr>\n",
       "    <td>\n",
       "        <a href=\"https://www.themoviedb.org/movie/268\"><img src=\"https://image.tmdb.org/t/p/w94_and_h141_bestv2//jUhGHv4YihieVjhU2TmFaBsZ4Xg.jpg\"/></a>\n",
       "    </td>\n",
       "    <td>\n",
       "        <a href=\"https://www.themoviedb.org/movie/268\">\n",
       "            Batman\n",
       "        </a> (1989)\n",
       "    </td>\n",
       "</tr>\n"
      ],
      "text/plain": [
       "<IPython.core.display.HTML object>"
      ]
     },
     "metadata": {},
     "output_type": "display_data"
    },
    {
     "data": {
      "text/html": [
       "2 \n",
       "<tr>\n",
       "    <td>\n",
       "        <a href=\"https://www.themoviedb.org/movie/272\"><img src=\"https://image.tmdb.org/t/p/w94_and_h141_bestv2//8RW2runSEc34IwKN2D1aPcJd2UL.jpg\"/></a>\n",
       "    </td>\n",
       "    <td>\n",
       "        <a href=\"https://www.themoviedb.org/movie/272\">\n",
       "            Batman Begins\n",
       "        </a> (2005)\n",
       "    </td>\n",
       "</tr>\n"
      ],
      "text/plain": [
       "<IPython.core.display.HTML object>"
      ]
     },
     "metadata": {},
     "output_type": "display_data"
    },
    {
     "name": "stdout",
     "output_type": "stream",
     "text": [
      "\n"
     ]
    },
    {
     "name": "stdin",
     "output_type": "stream",
     "text": [
      "Select wanted index: 0\n"
     ]
    },
    {
     "name": "stdout",
     "output_type": "stream",
     "text": [
      "ID of the movie: 414906\n"
     ]
    }
   ],
   "source": [
    "movie_id = show_movie_suggestions_get_id(suggestions, top=3, verbose=True)"
   ]
  },
  {
   "cell_type": "markdown",
   "id": "7c66df80-b43b-425b-974c-35bd9fe20eea",
   "metadata": {},
   "source": [
    "### Get movie details"
   ]
  },
  {
   "cell_type": "code",
   "execution_count": 5,
   "id": "f6706858-b699-435f-99c6-ec044a3bbb6e",
   "metadata": {},
   "outputs": [
    {
     "name": "stdout",
     "output_type": "stream",
     "text": [
      "Wall time: 526 ms\n"
     ]
    }
   ],
   "source": [
    "%%time\n",
    "data = get_movie_details_from_id(movie_id)"
   ]
  },
  {
   "cell_type": "code",
   "execution_count": 6,
   "id": "4e16dc3a-e81f-4fa7-bdc1-1bab6f4d8504",
   "metadata": {},
   "outputs": [
    {
     "data": {
      "text/plain": [
       "adult                                                                False\n",
       "backdrop_path                              /IYUD7rAIXzBM91TT3Z5fILUS7n.jpg\n",
       "belongs_to_collection    {'id': 948485, 'name': 'The Batman Collection'...\n",
       "budget                                                           185000000\n",
       "genres                   [{'id': 80, 'name': 'Crime'}, {'id': 9648, 'na...\n",
       "homepage                                         https://www.thebatman.com\n",
       "id                                                                  414906\n",
       "imdb_id                                                          tt1877830\n",
       "original_language                                                       en\n",
       "original_title                                                  The Batman\n",
       "overview                 In his second year of fighting crime, Batman u...\n",
       "popularity                                                         3348.47\n",
       "poster_path                               /74xTEgt7R36Fpooo50r9T25onhq.jpg\n",
       "production_companies     [{'id': 101405, 'logo_path': None, 'name': '6t...\n",
       "production_countries     [{'iso_3166_1': 'US', 'name': 'United States o...\n",
       "release_date                                                    2022-03-01\n",
       "revenue                                                          600000000\n",
       "runtime                                                                176\n",
       "spoken_languages         [{'english_name': 'English', 'iso_639_1': 'en'...\n",
       "status                                                            Released\n",
       "tagline                                                  Unmask the truth.\n",
       "title                                                           The Batman\n",
       "video                                                                False\n",
       "vote_average                                                           7.9\n",
       "vote_count                                                            2169\n",
       "dtype: object"
      ]
     },
     "execution_count": 6,
     "metadata": {},
     "output_type": "execute_result"
    }
   ],
   "source": [
    "pd.Series(data)"
   ]
  },
  {
   "cell_type": "markdown",
   "id": "7165f664-3c76-415e-97da-7fdb97b5498f",
   "metadata": {},
   "source": [
    "### Get movie cast and crew"
   ]
  },
  {
   "cell_type": "code",
   "execution_count": 7,
   "id": "cfe6b8de-1713-4d7d-890e-8e7331bd3ad6",
   "metadata": {},
   "outputs": [
    {
     "name": "stdout",
     "output_type": "stream",
     "text": [
      "Wall time: 559 ms\n"
     ]
    }
   ],
   "source": [
    "%%time\n",
    "data = get_movie_cast_from_id(movie_id)"
   ]
  },
  {
   "cell_type": "code",
   "execution_count": 8,
   "id": "4d86ae17-e70a-4f29-9125-cb56a3b70053",
   "metadata": {},
   "outputs": [
    {
     "data": {
      "text/html": [
       "<div>\n",
       "<style scoped>\n",
       "    .dataframe tbody tr th:only-of-type {\n",
       "        vertical-align: middle;\n",
       "    }\n",
       "\n",
       "    .dataframe tbody tr th {\n",
       "        vertical-align: top;\n",
       "    }\n",
       "\n",
       "    .dataframe thead th {\n",
       "        text-align: right;\n",
       "    }\n",
       "</style>\n",
       "<table border=\"1\" class=\"dataframe\">\n",
       "  <thead>\n",
       "    <tr style=\"text-align: right;\">\n",
       "      <th></th>\n",
       "      <th>adult</th>\n",
       "      <th>gender</th>\n",
       "      <th>id</th>\n",
       "      <th>known_for_department</th>\n",
       "      <th>name</th>\n",
       "      <th>original_name</th>\n",
       "      <th>popularity</th>\n",
       "      <th>profile_path</th>\n",
       "      <th>cast_id</th>\n",
       "      <th>character</th>\n",
       "      <th>credit_id</th>\n",
       "      <th>order</th>\n",
       "    </tr>\n",
       "  </thead>\n",
       "  <tbody>\n",
       "    <tr>\n",
       "      <th>0</th>\n",
       "      <td>False</td>\n",
       "      <td>2</td>\n",
       "      <td>11288</td>\n",
       "      <td>Acting</td>\n",
       "      <td>Robert Pattinson</td>\n",
       "      <td>Robert Pattinson</td>\n",
       "      <td>30.463</td>\n",
       "      <td>/9CbfQHyUhJZxWjlVqsdS3I4j9t5.jpg</td>\n",
       "      <td>174</td>\n",
       "      <td>Bruce Wayne / The Batman</td>\n",
       "      <td>607213782f791500769ddac5</td>\n",
       "      <td>0</td>\n",
       "    </tr>\n",
       "    <tr>\n",
       "      <th>1</th>\n",
       "      <td>False</td>\n",
       "      <td>1</td>\n",
       "      <td>37153</td>\n",
       "      <td>Acting</td>\n",
       "      <td>Zoë Kravitz</td>\n",
       "      <td>Zoë Kravitz</td>\n",
       "      <td>43.220</td>\n",
       "      <td>/A8Ig9UHh8NSiUGg3xChcoF7749w.jpg</td>\n",
       "      <td>60</td>\n",
       "      <td>Selina Kyle / Catwoman</td>\n",
       "      <td>5da4e941afe2240015eeec00</td>\n",
       "      <td>1</td>\n",
       "    </tr>\n",
       "    <tr>\n",
       "      <th>2</th>\n",
       "      <td>False</td>\n",
       "      <td>2</td>\n",
       "      <td>17142</td>\n",
       "      <td>Acting</td>\n",
       "      <td>Paul Dano</td>\n",
       "      <td>Paul Dano</td>\n",
       "      <td>79.982</td>\n",
       "      <td>/hGWZBC5dNrQJkcJ0JuhGp07eG6n.jpg</td>\n",
       "      <td>68</td>\n",
       "      <td>Edward Nashton / The Riddler</td>\n",
       "      <td>5da8ae96b2681f00168df2ec</td>\n",
       "      <td>2</td>\n",
       "    </tr>\n",
       "    <tr>\n",
       "      <th>3</th>\n",
       "      <td>False</td>\n",
       "      <td>2</td>\n",
       "      <td>2954</td>\n",
       "      <td>Acting</td>\n",
       "      <td>Jeffrey Wright</td>\n",
       "      <td>Jeffrey Wright</td>\n",
       "      <td>35.994</td>\n",
       "      <td>/npJjOiFiAP4wiRDNjKsO8ho03Mg.jpg</td>\n",
       "      <td>51</td>\n",
       "      <td>Lt. James Gordon</td>\n",
       "      <td>5d89435c172d7f000d4c312d</td>\n",
       "      <td>3</td>\n",
       "    </tr>\n",
       "    <tr>\n",
       "      <th>4</th>\n",
       "      <td>False</td>\n",
       "      <td>2</td>\n",
       "      <td>1241</td>\n",
       "      <td>Acting</td>\n",
       "      <td>John Turturro</td>\n",
       "      <td>John Turturro</td>\n",
       "      <td>33.036</td>\n",
       "      <td>/6O9W9cJW0kCqMzYeLupV9oH0ftn.jpg</td>\n",
       "      <td>75</td>\n",
       "      <td>Carmine Falcone</td>\n",
       "      <td>5dd86320ef8b3200128c0eb9</td>\n",
       "      <td>4</td>\n",
       "    </tr>\n",
       "  </tbody>\n",
       "</table>\n",
       "</div>"
      ],
      "text/plain": [
       "   adult  gender     id known_for_department              name  \\\n",
       "0  False       2  11288               Acting  Robert Pattinson   \n",
       "1  False       1  37153               Acting       Zoë Kravitz   \n",
       "2  False       2  17142               Acting         Paul Dano   \n",
       "3  False       2   2954               Acting    Jeffrey Wright   \n",
       "4  False       2   1241               Acting     John Turturro   \n",
       "\n",
       "      original_name  popularity                      profile_path  cast_id  \\\n",
       "0  Robert Pattinson      30.463  /9CbfQHyUhJZxWjlVqsdS3I4j9t5.jpg      174   \n",
       "1       Zoë Kravitz      43.220  /A8Ig9UHh8NSiUGg3xChcoF7749w.jpg       60   \n",
       "2         Paul Dano      79.982  /hGWZBC5dNrQJkcJ0JuhGp07eG6n.jpg       68   \n",
       "3    Jeffrey Wright      35.994  /npJjOiFiAP4wiRDNjKsO8ho03Mg.jpg       51   \n",
       "4     John Turturro      33.036  /6O9W9cJW0kCqMzYeLupV9oH0ftn.jpg       75   \n",
       "\n",
       "                      character                 credit_id  order  \n",
       "0      Bruce Wayne / The Batman  607213782f791500769ddac5      0  \n",
       "1        Selina Kyle / Catwoman  5da4e941afe2240015eeec00      1  \n",
       "2  Edward Nashton / The Riddler  5da8ae96b2681f00168df2ec      2  \n",
       "3              Lt. James Gordon  5d89435c172d7f000d4c312d      3  \n",
       "4               Carmine Falcone  5dd86320ef8b3200128c0eb9      4  "
      ]
     },
     "execution_count": 8,
     "metadata": {},
     "output_type": "execute_result"
    }
   ],
   "source": [
    "pd.DataFrame(data[\"cast\"]).head()"
   ]
  },
  {
   "cell_type": "code",
   "execution_count": 9,
   "id": "b96199b1-e6ee-43af-8cc5-68c76eb6ee53",
   "metadata": {},
   "outputs": [
    {
     "data": {
      "text/html": [
       "<div>\n",
       "<style scoped>\n",
       "    .dataframe tbody tr th:only-of-type {\n",
       "        vertical-align: middle;\n",
       "    }\n",
       "\n",
       "    .dataframe tbody tr th {\n",
       "        vertical-align: top;\n",
       "    }\n",
       "\n",
       "    .dataframe thead th {\n",
       "        text-align: right;\n",
       "    }\n",
       "</style>\n",
       "<table border=\"1\" class=\"dataframe\">\n",
       "  <thead>\n",
       "    <tr style=\"text-align: right;\">\n",
       "      <th></th>\n",
       "      <th>adult</th>\n",
       "      <th>gender</th>\n",
       "      <th>id</th>\n",
       "      <th>known_for_department</th>\n",
       "      <th>name</th>\n",
       "      <th>original_name</th>\n",
       "      <th>popularity</th>\n",
       "      <th>profile_path</th>\n",
       "      <th>credit_id</th>\n",
       "      <th>department</th>\n",
       "      <th>job</th>\n",
       "    </tr>\n",
       "  </thead>\n",
       "  <tbody>\n",
       "    <tr>\n",
       "      <th>0</th>\n",
       "      <td>False</td>\n",
       "      <td>2</td>\n",
       "      <td>2122</td>\n",
       "      <td>Editing</td>\n",
       "      <td>William Hoy</td>\n",
       "      <td>William Hoy</td>\n",
       "      <td>6.237</td>\n",
       "      <td>/5UoZPWvGDKzUvJfRFavwOYM8Enz.jpg</td>\n",
       "      <td>5dbdb8bfca835400145ef0b9</td>\n",
       "      <td>Editing</td>\n",
       "      <td>Editor</td>\n",
       "    </tr>\n",
       "    <tr>\n",
       "      <th>1</th>\n",
       "      <td>False</td>\n",
       "      <td>2</td>\n",
       "      <td>2293</td>\n",
       "      <td>Writing</td>\n",
       "      <td>Frank Miller</td>\n",
       "      <td>Frank Miller</td>\n",
       "      <td>5.796</td>\n",
       "      <td>/2eqqLG9Sv4i1ZlM14wY2LTTEbld.jpg</td>\n",
       "      <td>6224159ed185720044379cf7</td>\n",
       "      <td>Crew</td>\n",
       "      <td>Thanks</td>\n",
       "    </tr>\n",
       "    <tr>\n",
       "      <th>2</th>\n",
       "      <td>False</td>\n",
       "      <td>2</td>\n",
       "      <td>3794</td>\n",
       "      <td>Writing</td>\n",
       "      <td>Bob Kane</td>\n",
       "      <td>Bob Kane</td>\n",
       "      <td>6.854</td>\n",
       "      <td>/vuXwrlqaUydA4t5SFVdQkK9KsZL.jpg</td>\n",
       "      <td>5da60dba87e63e001739c2e7</td>\n",
       "      <td>Writing</td>\n",
       "      <td>Characters</td>\n",
       "    </tr>\n",
       "    <tr>\n",
       "      <th>3</th>\n",
       "      <td>False</td>\n",
       "      <td>2</td>\n",
       "      <td>10949</td>\n",
       "      <td>Production</td>\n",
       "      <td>Michael Uslan</td>\n",
       "      <td>Michael Uslan</td>\n",
       "      <td>1.856</td>\n",
       "      <td>/cXiiH0SSk5UHCvHOVAhHX7tNuls.jpg</td>\n",
       "      <td>5e307a3cfd140b00136d47f2</td>\n",
       "      <td>Production</td>\n",
       "      <td>Executive Producer</td>\n",
       "    </tr>\n",
       "    <tr>\n",
       "      <th>4</th>\n",
       "      <td>False</td>\n",
       "      <td>2</td>\n",
       "      <td>9546</td>\n",
       "      <td>Art</td>\n",
       "      <td>James Chinlund</td>\n",
       "      <td>James Chinlund</td>\n",
       "      <td>3.409</td>\n",
       "      <td>/lAi8BVuuzKrJWUqPTt3LnlDYSNU.jpg</td>\n",
       "      <td>5da45adee860170014b23409</td>\n",
       "      <td>Art</td>\n",
       "      <td>Production Design</td>\n",
       "    </tr>\n",
       "  </tbody>\n",
       "</table>\n",
       "</div>"
      ],
      "text/plain": [
       "   adult  gender     id known_for_department            name   original_name  \\\n",
       "0  False       2   2122              Editing     William Hoy     William Hoy   \n",
       "1  False       2   2293              Writing    Frank Miller    Frank Miller   \n",
       "2  False       2   3794              Writing        Bob Kane        Bob Kane   \n",
       "3  False       2  10949           Production   Michael Uslan   Michael Uslan   \n",
       "4  False       2   9546                  Art  James Chinlund  James Chinlund   \n",
       "\n",
       "   popularity                      profile_path                 credit_id  \\\n",
       "0       6.237  /5UoZPWvGDKzUvJfRFavwOYM8Enz.jpg  5dbdb8bfca835400145ef0b9   \n",
       "1       5.796  /2eqqLG9Sv4i1ZlM14wY2LTTEbld.jpg  6224159ed185720044379cf7   \n",
       "2       6.854  /vuXwrlqaUydA4t5SFVdQkK9KsZL.jpg  5da60dba87e63e001739c2e7   \n",
       "3       1.856  /cXiiH0SSk5UHCvHOVAhHX7tNuls.jpg  5e307a3cfd140b00136d47f2   \n",
       "4       3.409  /lAi8BVuuzKrJWUqPTt3LnlDYSNU.jpg  5da45adee860170014b23409   \n",
       "\n",
       "   department                 job  \n",
       "0     Editing              Editor  \n",
       "1        Crew              Thanks  \n",
       "2     Writing          Characters  \n",
       "3  Production  Executive Producer  \n",
       "4         Art   Production Design  "
      ]
     },
     "execution_count": 9,
     "metadata": {},
     "output_type": "execute_result"
    }
   ],
   "source": [
    "pd.DataFrame(data[\"crew\"]).head()"
   ]
  }
 ],
 "metadata": {
  "kernelspec": {
   "display_name": "Python 3",
   "language": "python",
   "name": "python3"
  },
  "language_info": {
   "codemirror_mode": {
    "name": "ipython",
    "version": 3
   },
   "file_extension": ".py",
   "mimetype": "text/x-python",
   "name": "python",
   "nbconvert_exporter": "python",
   "pygments_lexer": "ipython3",
   "version": "3.8.8"
  }
 },
 "nbformat": 4,
 "nbformat_minor": 5
}
